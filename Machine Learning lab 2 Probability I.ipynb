{
 "cells": [
  {
   "cell_type": "markdown",
   "metadata": {
    "collapsed": true
   },
   "source": [
    "## Throwing a fair dice"
   ]
  },
  {
   "cell_type": "markdown",
   "metadata": {},
   "source": [
    "##### 1: What is the probability space U if we throw once with a dice?"
   ]
  },
  {
   "cell_type": "markdown",
   "metadata": {
    "collapsed": true
   },
   "source": [
    "- Ω = {1, 2, 3, 4, 5, 6}\n",
    "- P(1) = 1/6 (evenly distrubited, all numbers have P = 1/6)"
   ]
  },
  {
   "cell_type": "markdown",
   "metadata": {},
   "source": [
    "##### 2: We throw the same dice twice. What is the probability space for this experiment?"
   ]
  },
  {
   "cell_type": "markdown",
   "metadata": {
    "collapsed": true
   },
   "source": [
    "- Ω = {(1,1), (1,2), (1,3), (1,4), (1, 5), (1, 6), (2, 2), (2, 3), (2, 4), (2, 5), (2, 6), (3, 3), (3, 4), (3, 5), (3, 6), (4, 4), (4, 5), (4, 6), (5, 5), (5, 6), (6, 6)}\n",
    "- P(1, 1) = 1/36 (if it's the same number, 1/36 chance)\n",
    "- P(1, 2) = 2/36 (if it's not the same number, 2/36 chance)"
   ]
  },
  {
   "cell_type": "markdown",
   "metadata": {},
   "source": [
    "##### 3: What is the probability to throw a six twice?"
   ]
  },
  {
   "cell_type": "markdown",
   "metadata": {
    "collapsed": true
   },
   "source": [
    "(1/6)^2 = 1/36"
   ]
  },
  {
   "cell_type": "markdown",
   "metadata": {},
   "source": [
    "##### 4: What is the probability to get 9 points in total in two throws?"
   ]
  },
  {
   "cell_type": "markdown",
   "metadata": {
    "collapsed": true
   },
   "source": [
    "P(3,6) + P(4,5) + P(5,4) + P(6,3) = 1/36 + 1/36 + 1/36 + 1/36 = 4/36"
   ]
  },
  {
   "cell_type": "markdown",
   "metadata": {},
   "source": [
    "## Venn Diagram"
   ]
  },
  {
   "cell_type": "markdown",
   "metadata": {},
   "source": [
    "##### 1: The elementary region with label 3 corresponds with the event A∩B. Give the events (in terms of A, B and U) of the other three elementary regions."
   ]
  },
  {
   "cell_type": "markdown",
   "metadata": {},
   "source": [
    "1. U - (A ∪ B)\n",
    "2. A - (A ∩ B) or (A ∪ B) - B\n",
    "3. (A + B) - (A ∪ B) or U - area 1 - area 2 - area 4\n",
    "4. B - (A ∩ B) or (A ∪ B) - A"
   ]
  },
  {
   "cell_type": "markdown",
   "metadata": {},
   "source": [
    "##### 2: Calculate the probabilities of the four events defined in the previous question."
   ]
  },
  {
   "cell_type": "markdown",
   "metadata": {},
   "source": [
    "1. 1 - 0.8 = 0.2\n",
    "2. 0.8 - 0.7 = 0.1\n",
    "3. 1 - 0.2 - 0.1 - 0.3 = 1 - 0.6 = 0.4\n",
    "4. 0.8 - 0.5 = 0.3"
   ]
  },
  {
   "cell_type": "markdown",
   "metadata": {},
   "source": [
    "## Axioms and Theorems of Probability"
   ]
  },
  {
   "cell_type": "markdown",
   "metadata": {},
   "source": [
    "##### 1: Prove that 𝖯(A∪B)=𝖯(A)+𝖯(B)−𝖯(A∩B) using the axioms of probability. Start with a ‘graphical proof’ based on a Venn diagram. Can you also give a formal algebraic proof (i.e. manipulating equations)."
   ]
  },
  {
   "cell_type": "markdown",
   "metadata": {
    "collapsed": true
   },
   "source": [
    "- In P(A∪B), you have P(A) and P(B) - P(A∩B), otherwise you would count P(A∩B) twice\n",
    "- P(A∪B) = P(A) + P(B) - P(A∩B)\n",
    "- P(A∪B) - P(A) = P(B) - P(A∩B)"
   ]
  },
  {
   "cell_type": "markdown",
   "metadata": {},
   "source": [
    "##### 2: Also prove 𝖯(A)=𝖯(A∩B)+𝖯(A∩¬B). Again give a graphical proof as well as a algebraic proof."
   ]
  },
  {
   "cell_type": "code",
   "execution_count": null,
   "metadata": {
    "collapsed": true
   },
   "outputs": [],
   "source": []
  },
  {
   "cell_type": "markdown",
   "metadata": {},
   "source": [
    "##### 3: Let Bi for i=1,…,n form a partition of U, prove that:\n",
    "$$\n",
    "{P(A)} =\n",
    "\\sum_{i=1}^{n} (P(A∩Bi))\n",
    "$$"
   ]
  },
  {
   "cell_type": "code",
   "execution_count": null,
   "metadata": {
    "collapsed": true
   },
   "outputs": [],
   "source": []
  },
  {
   "cell_type": "markdown",
   "metadata": {},
   "source": [
    "## Conditional Probability and Bayes Rule"
   ]
  },
  {
   "cell_type": "code",
   "execution_count": null,
   "metadata": {
    "collapsed": true
   },
   "outputs": [],
   "source": []
  }
 ],
 "metadata": {
  "kernelspec": {
   "display_name": "Python 3",
   "language": "python",
   "name": "python3"
  },
  "language_info": {
   "codemirror_mode": {
    "name": "ipython",
    "version": 3
   },
   "file_extension": ".py",
   "mimetype": "text/x-python",
   "name": "python",
   "nbconvert_exporter": "python",
   "pygments_lexer": "ipython3",
   "version": "3.6.0"
  }
 },
 "nbformat": 4,
 "nbformat_minor": 2
}
